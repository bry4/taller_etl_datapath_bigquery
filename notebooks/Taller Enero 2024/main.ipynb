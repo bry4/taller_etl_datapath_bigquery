{
 "cells": [
  {
   "cell_type": "code",
   "execution_count": null,
   "metadata": {},
   "outputs": [],
   "source": [
    "pip install beautifulsoup4"
   ]
  },
  {
   "cell_type": "code",
   "execution_count": null,
   "metadata": {},
   "outputs": [],
   "source": [
    "pip install requests"
   ]
  },
  {
   "cell_type": "code",
   "execution_count": null,
   "metadata": {},
   "outputs": [],
   "source": [
    "pip install lxml"
   ]
  },
  {
   "cell_type": "code",
   "execution_count": 3,
   "metadata": {},
   "outputs": [],
   "source": [
    "from bs4 import BeautifulSoup\n",
    "import requests\n",
    "import pandas as pd"
   ]
  },
  {
   "cell_type": "code",
   "execution_count": 4,
   "metadata": {},
   "outputs": [],
   "source": [
    "## obtenemos el contenido estructural(en texto plano) de la página cambista\n",
    "page = requests.get('https://www.infodolar.com.pe/')\n",
    "\n",
    "## hacemos que ese contenido tenga formato HTML con BeautifulSoup\n",
    "soup = BeautifulSoup(page.content, \"html.parser\")"
   ]
  },
  {
   "cell_type": "code",
   "execution_count": 5,
   "metadata": {},
   "outputs": [],
   "source": [
    "table=soup.find('table', id='DolarPromedio')"
   ]
  },
  {
   "cell_type": "code",
   "execution_count": 6,
   "metadata": {},
   "outputs": [
    {
     "data": {
      "text/plain": [
       "<table class=\"cotizaciones\" id=\"DolarPromedio\">\n",
       "<thead>\n",
       "<tr>\n",
       "<th class=\"dolar\"></th>\n",
       "<th class=\"dolar\">Compra</th>\n",
       "<th class=\"dolar\">Venta</th>\n",
       "<th class=\"dolar\">Variación</th>\n",
       "<th class=\"dolar\">Spread</th>\n",
       "<th class=\"dolar\"><i class=\"far fa-clock\"></i></th>\n",
       "</tr>\n",
       "</thead>\n",
       "<tr>\n",
       "<td class=\"colNombre\">\n",
       "<span class=\"nombre\">Promedio InfoDolar</span>\n",
       "</td>\n",
       "<td class=\"colCompraVenta\" data-order=\"3.7475\">\n",
       "                                S/3.748\n",
       "                                <span class=\"variacionCompraVenta\"><span class=\"alza\"><i class=\"fa fa-arrow-up\"></i> S/0.023</span></span>\n",
       "</td>\n",
       "<td class=\"colCompraVenta\" data-order=\"3.77585\">\n",
       "                                S/3.776\n",
       "                                <span class=\"variacionCompraVenta\"><span class=\"alza\"><i class=\"fa fa-arrow-up\"></i> S/0.026</span></span>\n",
       "</td>\n",
       "<td class=\"colVariacion\">\n",
       "<span class=\"variacion\"><span class=\"alza\"><i class=\"fa fa-arrow-up\"></i> 0.69 %</span></span>\n",
       "</td>\n",
       "<td class=\"colSpread\">\n",
       "                                S/0.028\n",
       "                            </td>\n",
       "<td class=\"colFecha\">\n",
       "<abbr class=\"timeago date\" title=\"2024-01-23T18:50:00-05:00\">martes, 23 de enero de 2024 18:50 Perú</abbr>\n",
       "</td>\n",
       "</tr>\n",
       "<tr>\n",
       "<td class=\"colNombre\">\n",
       "<a href=\"/tipo-de-cambio-sunat.aspx\"><img alt=\"Tipo de cambio SUNAT\" src=\"/images/entidades/sunat.png\"/></a>\n",
       "<span class=\"nombre\"><a href=\"/tipo-de-cambio-sunat.aspx\">Tipo de cambio SUNAT</a></span>\n",
       "</td>\n",
       "<td class=\"colCompraVenta\" data-order=\"3.7360\">\n",
       "                                S/3.736\n",
       "                                <span class=\"variacionCompraVenta\"><span class=\"igual\"> = S/0.000</span></span>\n",
       "</td>\n",
       "<td class=\"colCompraVenta\" data-order=\"3.7460\">\n",
       "                                S/3.746\n",
       "                                <span class=\"variacionCompraVenta\"><span class=\"alza\"><i class=\"fa fa-arrow-up\"></i> S/0.003</span></span>\n",
       "</td>\n",
       "<td class=\"colVariacion\">\n",
       "<span class=\"variacion\"><span class=\"alza\"><i class=\"fa fa-arrow-up\"></i> 0.08 %</span></span>\n",
       "</td>\n",
       "<td class=\"colSpread\">\n",
       "                                S/0.010\n",
       "                            </td>\n",
       "<td class=\"colFecha\">\n",
       "<abbr class=\"timeago date\" title=\"2024-01-23T09:10:00-05:00\">martes, 23 de enero de 2024 09:10 Perú</abbr>\n",
       "</td>\n",
       "</tr>\n",
       "</table>"
      ]
     },
     "execution_count": 6,
     "metadata": {},
     "output_type": "execute_result"
    }
   ],
   "source": [
    "table"
   ]
  },
  {
   "cell_type": "code",
   "execution_count": 7,
   "metadata": {},
   "outputs": [
    {
     "name": "stderr",
     "output_type": "stream",
     "text": [
      "/var/folders/qm/d416xgr55slc_jkcx9xkv1hh0000gn/T/ipykernel_92176/2644759292.py:1: FutureWarning: Passing literal html to 'read_html' is deprecated and will be removed in a future version. To read from a literal string, wrap it in a 'StringIO' object.\n",
      "  pd.read_html(str(table))[0]\n"
     ]
    },
    {
     "data": {
      "text/html": [
       "<div>\n",
       "<style scoped>\n",
       "    .dataframe tbody tr th:only-of-type {\n",
       "        vertical-align: middle;\n",
       "    }\n",
       "\n",
       "    .dataframe tbody tr th {\n",
       "        vertical-align: top;\n",
       "    }\n",
       "\n",
       "    .dataframe thead th {\n",
       "        text-align: right;\n",
       "    }\n",
       "</style>\n",
       "<table border=\"1\" class=\"dataframe\">\n",
       "  <thead>\n",
       "    <tr style=\"text-align: right;\">\n",
       "      <th></th>\n",
       "      <th>Unnamed: 0</th>\n",
       "      <th>Compra</th>\n",
       "      <th>Venta</th>\n",
       "      <th>Variación</th>\n",
       "      <th>Spread</th>\n",
       "      <th>Unnamed: 5</th>\n",
       "    </tr>\n",
       "  </thead>\n",
       "  <tbody>\n",
       "    <tr>\n",
       "      <th>0</th>\n",
       "      <td>Promedio InfoDolar</td>\n",
       "      <td>S/3.748  S/0.023</td>\n",
       "      <td>S/3.776  S/0.026</td>\n",
       "      <td>0.69 %</td>\n",
       "      <td>S/0.028</td>\n",
       "      <td>martes, 23 de enero de 2024 18:50 Perú</td>\n",
       "    </tr>\n",
       "    <tr>\n",
       "      <th>1</th>\n",
       "      <td>Tipo de cambio SUNAT</td>\n",
       "      <td>S/3.736  = S/0.000</td>\n",
       "      <td>S/3.746  S/0.003</td>\n",
       "      <td>0.08 %</td>\n",
       "      <td>S/0.010</td>\n",
       "      <td>martes, 23 de enero de 2024 09:10 Perú</td>\n",
       "    </tr>\n",
       "  </tbody>\n",
       "</table>\n",
       "</div>"
      ],
      "text/plain": [
       "             Unnamed: 0              Compra             Venta Variación  \\\n",
       "0    Promedio InfoDolar    S/3.748  S/0.023  S/3.776  S/0.026    0.69 %   \n",
       "1  Tipo de cambio SUNAT  S/3.736  = S/0.000  S/3.746  S/0.003    0.08 %   \n",
       "\n",
       "    Spread                              Unnamed: 5  \n",
       "0  S/0.028  martes, 23 de enero de 2024 18:50 Perú  \n",
       "1  S/0.010  martes, 23 de enero de 2024 09:10 Perú  "
      ]
     },
     "execution_count": 7,
     "metadata": {},
     "output_type": "execute_result"
    }
   ],
   "source": [
    "pd.read_html(str(table))[0]"
   ]
  },
  {
   "cell_type": "code",
   "execution_count": 8,
   "metadata": {},
   "outputs": [
    {
     "name": "stderr",
     "output_type": "stream",
     "text": [
      "/var/folders/qm/d416xgr55slc_jkcx9xkv1hh0000gn/T/ipykernel_92176/2838227840.py:1: FutureWarning: Passing literal html to 'read_html' is deprecated and will be removed in a future version. To read from a literal string, wrap it in a 'StringIO' object.\n",
      "  dolar_table = pd.read_html(str(table))[0]\n"
     ]
    }
   ],
   "source": [
    "dolar_table = pd.read_html(str(table))[0]"
   ]
  },
  {
   "cell_type": "code",
   "execution_count": 9,
   "metadata": {},
   "outputs": [
    {
     "data": {
      "text/html": [
       "<div>\n",
       "<style scoped>\n",
       "    .dataframe tbody tr th:only-of-type {\n",
       "        vertical-align: middle;\n",
       "    }\n",
       "\n",
       "    .dataframe tbody tr th {\n",
       "        vertical-align: top;\n",
       "    }\n",
       "\n",
       "    .dataframe thead th {\n",
       "        text-align: right;\n",
       "    }\n",
       "</style>\n",
       "<table border=\"1\" class=\"dataframe\">\n",
       "  <thead>\n",
       "    <tr style=\"text-align: right;\">\n",
       "      <th></th>\n",
       "      <th>Unnamed: 0</th>\n",
       "      <th>Compra</th>\n",
       "      <th>Venta</th>\n",
       "      <th>Variación</th>\n",
       "      <th>Spread</th>\n",
       "      <th>Unnamed: 5</th>\n",
       "    </tr>\n",
       "  </thead>\n",
       "  <tbody>\n",
       "    <tr>\n",
       "      <th>0</th>\n",
       "      <td>Promedio InfoDolar</td>\n",
       "      <td>S/3.748  S/0.023</td>\n",
       "      <td>S/3.776  S/0.026</td>\n",
       "      <td>0.69 %</td>\n",
       "      <td>S/0.028</td>\n",
       "      <td>martes, 23 de enero de 2024 18:50 Perú</td>\n",
       "    </tr>\n",
       "    <tr>\n",
       "      <th>1</th>\n",
       "      <td>Tipo de cambio SUNAT</td>\n",
       "      <td>S/3.736  = S/0.000</td>\n",
       "      <td>S/3.746  S/0.003</td>\n",
       "      <td>0.08 %</td>\n",
       "      <td>S/0.010</td>\n",
       "      <td>martes, 23 de enero de 2024 09:10 Perú</td>\n",
       "    </tr>\n",
       "  </tbody>\n",
       "</table>\n",
       "</div>"
      ],
      "text/plain": [
       "             Unnamed: 0              Compra             Venta Variación  \\\n",
       "0    Promedio InfoDolar    S/3.748  S/0.023  S/3.776  S/0.026    0.69 %   \n",
       "1  Tipo de cambio SUNAT  S/3.736  = S/0.000  S/3.746  S/0.003    0.08 %   \n",
       "\n",
       "    Spread                              Unnamed: 5  \n",
       "0  S/0.028  martes, 23 de enero de 2024 18:50 Perú  \n",
       "1  S/0.010  martes, 23 de enero de 2024 09:10 Perú  "
      ]
     },
     "execution_count": 9,
     "metadata": {},
     "output_type": "execute_result"
    }
   ],
   "source": [
    "dolar_table"
   ]
  },
  {
   "cell_type": "code",
   "execution_count": 10,
   "metadata": {},
   "outputs": [
    {
     "data": {
      "text/plain": [
       "'S/3.776  S/0.026'"
      ]
     },
     "execution_count": 10,
     "metadata": {},
     "output_type": "execute_result"
    }
   ],
   "source": [
    "# dolar_table.loc[0,\"Compra\"] # Es lo mismo\n",
    "list(dolar_table[\"Venta\"])[0]"
   ]
  },
  {
   "cell_type": "code",
   "execution_count": 11,
   "metadata": {},
   "outputs": [
    {
     "data": {
      "text/plain": [
       "'S/3.776  S/0.026'"
      ]
     },
     "execution_count": 11,
     "metadata": {},
     "output_type": "execute_result"
    }
   ],
   "source": [
    "precio_dolar_sunat=list(dolar_table[\"Venta\"])[0]\n",
    "precio_dolar_sunat"
   ]
  },
  {
   "cell_type": "code",
   "execution_count": 12,
   "metadata": {},
   "outputs": [
    {
     "data": {
      "text/plain": [
       "3.776"
      ]
     },
     "execution_count": 12,
     "metadata": {},
     "output_type": "execute_result"
    }
   ],
   "source": [
    "precio_dolar_sunat.split(\" \")[0]\n",
    "precio_dolar_sunat.split(\" \")[0].replace(\"S/\",\"\")\n",
    "float(precio_dolar_sunat.split(\" \")[0].replace(\"S/\",\"\"))"
   ]
  },
  {
   "cell_type": "code",
   "execution_count": 13,
   "metadata": {},
   "outputs": [
    {
     "data": {
      "text/plain": [
       "3.776"
      ]
     },
     "execution_count": 13,
     "metadata": {},
     "output_type": "execute_result"
    }
   ],
   "source": [
    "precio_dolar=float(precio_dolar_sunat.split(\" \")[0].replace(\"S/\",\"\"))\n",
    "precio_dolar"
   ]
  },
  {
   "cell_type": "code",
   "execution_count": 14,
   "metadata": {},
   "outputs": [],
   "source": [
    "import sqlalchemy as db"
   ]
  },
  {
   "cell_type": "code",
   "execution_count": null,
   "metadata": {},
   "outputs": [],
   "source": [
    "pip install sqlalchemy"
   ]
  },
  {
   "cell_type": "code",
   "execution_count": null,
   "metadata": {},
   "outputs": [],
   "source": [
    "pip install mysql-connector-python"
   ]
  },
  {
   "cell_type": "code",
   "execution_count": 15,
   "metadata": {},
   "outputs": [],
   "source": [
    "# este es el fichero para conectarnos a MySQL\n",
    "class ConexionMySQL():\n",
    "    def __init__(self, bd_servidor,bd_nombre,bd_usuario,bd_contrasenia):\n",
    "        self.bd_servidor=bd_servidor\n",
    "        self.bd_nombre=bd_nombre\n",
    "        self.bd_usuario=bd_usuario\n",
    "        self.bd_contrasenia=bd_contrasenia\n",
    "\n",
    "    ## Función de conexión a MySQL\n",
    "    def conectarMySQL(self):\n",
    "        engine = db.create_engine(f\"mysql+mysqlconnector://{self.bd_usuario}:{self.bd_contrasenia}@{self.bd_servidor}:3306/{self.bd_nombre}\")\n",
    "        \n",
    "        conn=engine.connect()\n",
    "        return conn"
   ]
  },
  {
   "cell_type": "code",
   "execution_count": 16,
   "metadata": {},
   "outputs": [],
   "source": [
    "import json"
   ]
  },
  {
   "cell_type": "code",
   "execution_count": null,
   "metadata": {},
   "outputs": [],
   "source": [
    "{\n",
    "    \"server\":\"xx.xx.xx.xx\",\n",
    "    \"bd\":\"taller\",\n",
    "    \"user\":\"root\",\n",
    "    \"password\":\"password\"\n",
    "}"
   ]
  },
  {
   "cell_type": "code",
   "execution_count": 17,
   "metadata": {},
   "outputs": [],
   "source": [
    "sql_path = \"../local/credentials_mysql.json\"\n",
    "\n",
    "with open(sql_path, 'r') as archivo:\n",
    "    credenciales_mysql = json.load(archivo)"
   ]
  },
  {
   "cell_type": "code",
   "execution_count": 18,
   "metadata": {},
   "outputs": [],
   "source": [
    "## creando el objeto de la clase ConnetionMysql\n",
    "obj_ventas = ConexionMySQL(\n",
    "                            credenciales_mysql[\"server\"],           ## Servidor\n",
    "                            credenciales_mysql[\"bd\"],               ## base de datos\n",
    "                            credenciales_mysql[\"user\"],             ## usuario\n",
    "                            credenciales_mysql[\"password\"]          ## contraseña\n",
    "                            )\n",
    "\n",
    "## llamar a la funcion de conexión a la base de datos\n",
    "conn_ventas = obj_ventas.conectarMySQL()"
   ]
  },
  {
   "cell_type": "code",
   "execution_count": 19,
   "metadata": {},
   "outputs": [],
   "source": [
    "import pandas as pd"
   ]
  },
  {
   "cell_type": "code",
   "execution_count": 20,
   "metadata": {},
   "outputs": [],
   "source": [
    "query = '''\n",
    "    select\n",
    "        A.Factura as factura,\n",
    "        A.Fecha as fecha,\n",
    "        A.CodigoOperador as codigo_operador,\n",
    "        B.RazonSocialOperador as operador,\n",
    "        A.VentaTotal as venta_total\n",
    "    from \n",
    "        ventas A\n",
    "    left join\n",
    "        operador B\n",
    "    on A.CodigoOperador = B.CodigoOperador\n",
    "'''"
   ]
  },
  {
   "cell_type": "code",
   "execution_count": 21,
   "metadata": {},
   "outputs": [],
   "source": [
    "df_ventas=pd.read_sql(query, con=conn_ventas)"
   ]
  },
  {
   "cell_type": "code",
   "execution_count": 22,
   "metadata": {},
   "outputs": [],
   "source": [
    "df_ventas[\"venta_total_usd\"] = df_ventas[\"venta_total\"]/precio_dolar"
   ]
  },
  {
   "cell_type": "code",
   "execution_count": 23,
   "metadata": {},
   "outputs": [],
   "source": [
    "df_ventas[\"factura\"]=df_ventas[\"factura\"].astype(str)\n",
    "df_ventas[\"codigo_operador\"]=df_ventas[\"codigo_operador\"].astype(str)"
   ]
  },
  {
   "cell_type": "code",
   "execution_count": 24,
   "metadata": {},
   "outputs": [
    {
     "data": {
      "text/html": [
       "<div>\n",
       "<style scoped>\n",
       "    .dataframe tbody tr th:only-of-type {\n",
       "        vertical-align: middle;\n",
       "    }\n",
       "\n",
       "    .dataframe tbody tr th {\n",
       "        vertical-align: top;\n",
       "    }\n",
       "\n",
       "    .dataframe thead th {\n",
       "        text-align: right;\n",
       "    }\n",
       "</style>\n",
       "<table border=\"1\" class=\"dataframe\">\n",
       "  <thead>\n",
       "    <tr style=\"text-align: right;\">\n",
       "      <th></th>\n",
       "      <th>factura</th>\n",
       "      <th>fecha</th>\n",
       "      <th>codigo_operador</th>\n",
       "      <th>operador</th>\n",
       "      <th>venta_total</th>\n",
       "      <th>venta_total_usd</th>\n",
       "    </tr>\n",
       "  </thead>\n",
       "  <tbody>\n",
       "    <tr>\n",
       "      <th>0</th>\n",
       "      <td>15</td>\n",
       "      <td>22/5/2014</td>\n",
       "      <td>1</td>\n",
       "      <td>Movistar</td>\n",
       "      <td>5238</td>\n",
       "      <td>1387.182203</td>\n",
       "    </tr>\n",
       "    <tr>\n",
       "      <th>1</th>\n",
       "      <td>326</td>\n",
       "      <td>30/8/2015</td>\n",
       "      <td>1</td>\n",
       "      <td>Movistar</td>\n",
       "      <td>1896</td>\n",
       "      <td>502.118644</td>\n",
       "    </tr>\n",
       "    <tr>\n",
       "      <th>2</th>\n",
       "      <td>364</td>\n",
       "      <td>30/10/2015</td>\n",
       "      <td>1</td>\n",
       "      <td>Movistar</td>\n",
       "      <td>3656</td>\n",
       "      <td>968.220339</td>\n",
       "    </tr>\n",
       "    <tr>\n",
       "      <th>3</th>\n",
       "      <td>680</td>\n",
       "      <td>12/2/2017</td>\n",
       "      <td>3</td>\n",
       "      <td>Bitel</td>\n",
       "      <td>5445</td>\n",
       "      <td>1442.002119</td>\n",
       "    </tr>\n",
       "    <tr>\n",
       "      <th>4</th>\n",
       "      <td>888</td>\n",
       "      <td>11/12/2017</td>\n",
       "      <td>3</td>\n",
       "      <td>Bitel</td>\n",
       "      <td>5971</td>\n",
       "      <td>1581.302966</td>\n",
       "    </tr>\n",
       "  </tbody>\n",
       "</table>\n",
       "</div>"
      ],
      "text/plain": [
       "  factura       fecha codigo_operador  operador  venta_total  venta_total_usd\n",
       "0      15   22/5/2014               1  Movistar         5238      1387.182203\n",
       "1     326   30/8/2015               1  Movistar         1896       502.118644\n",
       "2     364  30/10/2015               1  Movistar         3656       968.220339\n",
       "3     680   12/2/2017               3     Bitel         5445      1442.002119\n",
       "4     888  11/12/2017               3     Bitel         5971      1581.302966"
      ]
     },
     "execution_count": 24,
     "metadata": {},
     "output_type": "execute_result"
    }
   ],
   "source": [
    "df_ventas.head()"
   ]
  },
  {
   "cell_type": "code",
   "execution_count": null,
   "metadata": {},
   "outputs": [],
   "source": [
    "#df_ventas.rename(columns={\"Factura\":\"factura\",\"Fecha\":\"fecha\",\"CodigoOperador\":\"codigo_operador\",\"RazonSocialOperador\":\"operador\"}, inplace=True)"
   ]
  },
  {
   "cell_type": "code",
   "execution_count": null,
   "metadata": {},
   "outputs": [],
   "source": [
    "pip install google-cloud-bigquery"
   ]
  },
  {
   "cell_type": "code",
   "execution_count": null,
   "metadata": {},
   "outputs": [],
   "source": [
    "# Para la carga a bigquery desde dataframe\n",
    "pip install pyarrow"
   ]
  },
  {
   "cell_type": "code",
   "execution_count": 25,
   "metadata": {},
   "outputs": [],
   "source": [
    "from google.cloud import bigquery\n",
    "\n",
    "key_path = \"../local/credentials_gcp.json\"\n",
    "client = bigquery.Client.from_service_account_json(key_path)"
   ]
  },
  {
   "cell_type": "code",
   "execution_count": 26,
   "metadata": {},
   "outputs": [
    {
     "ename": "Conflict",
     "evalue": "409 POST https://bigquery.googleapis.com/bigquery/v2/projects/taller-etl-datapath/datasets/taller_enero2024/tables?prettyPrint=false: Already Exists: Table taller-etl-datapath:taller_enero2024.ventas",
     "output_type": "error",
     "traceback": [
      "\u001b[0;31m---------------------------------------------------------------------------\u001b[0m",
      "\u001b[0;31mConflict\u001b[0m                                  Traceback (most recent call last)",
      "Cell \u001b[0;32mIn[26], line 9\u001b[0m\n\u001b[1;32m      6\u001b[0m table \u001b[38;5;241m=\u001b[39m bigquery\u001b[38;5;241m.\u001b[39mTable(table_id, schema\u001b[38;5;241m=\u001b[39mschema)\n\u001b[1;32m      8\u001b[0m \u001b[38;5;66;03m## enviando la instruccion a bigquery\u001b[39;00m\n\u001b[0;32m----> 9\u001b[0m table \u001b[38;5;241m=\u001b[39m \u001b[43mclient\u001b[49m\u001b[38;5;241;43m.\u001b[39;49m\u001b[43mcreate_table\u001b[49m\u001b[43m(\u001b[49m\u001b[43mtable\u001b[49m\u001b[43m)\u001b[49m\n",
      "File \u001b[0;32m/Library/Frameworks/Python.framework/Versions/3.12/lib/python3.12/site-packages/google/cloud/bigquery/client.py:784\u001b[0m, in \u001b[0;36mClient.create_table\u001b[0;34m(self, table, exists_ok, retry, timeout)\u001b[0m\n\u001b[1;32m    782\u001b[0m \u001b[38;5;28;01mtry\u001b[39;00m:\n\u001b[1;32m    783\u001b[0m     span_attributes \u001b[38;5;241m=\u001b[39m {\u001b[38;5;124m\"\u001b[39m\u001b[38;5;124mpath\u001b[39m\u001b[38;5;124m\"\u001b[39m: path, \u001b[38;5;124m\"\u001b[39m\u001b[38;5;124mdataset_id\u001b[39m\u001b[38;5;124m\"\u001b[39m: dataset_id}\n\u001b[0;32m--> 784\u001b[0m     api_response \u001b[38;5;241m=\u001b[39m \u001b[38;5;28;43mself\u001b[39;49m\u001b[38;5;241;43m.\u001b[39;49m\u001b[43m_call_api\u001b[49m\u001b[43m(\u001b[49m\n\u001b[1;32m    785\u001b[0m \u001b[43m        \u001b[49m\u001b[43mretry\u001b[49m\u001b[43m,\u001b[49m\n\u001b[1;32m    786\u001b[0m \u001b[43m        \u001b[49m\u001b[43mspan_name\u001b[49m\u001b[38;5;241;43m=\u001b[39;49m\u001b[38;5;124;43m\"\u001b[39;49m\u001b[38;5;124;43mBigQuery.createTable\u001b[39;49m\u001b[38;5;124;43m\"\u001b[39;49m\u001b[43m,\u001b[49m\n\u001b[1;32m    787\u001b[0m \u001b[43m        \u001b[49m\u001b[43mspan_attributes\u001b[49m\u001b[38;5;241;43m=\u001b[39;49m\u001b[43mspan_attributes\u001b[49m\u001b[43m,\u001b[49m\n\u001b[1;32m    788\u001b[0m \u001b[43m        \u001b[49m\u001b[43mmethod\u001b[49m\u001b[38;5;241;43m=\u001b[39;49m\u001b[38;5;124;43m\"\u001b[39;49m\u001b[38;5;124;43mPOST\u001b[39;49m\u001b[38;5;124;43m\"\u001b[39;49m\u001b[43m,\u001b[49m\n\u001b[1;32m    789\u001b[0m \u001b[43m        \u001b[49m\u001b[43mpath\u001b[49m\u001b[38;5;241;43m=\u001b[39;49m\u001b[43mpath\u001b[49m\u001b[43m,\u001b[49m\n\u001b[1;32m    790\u001b[0m \u001b[43m        \u001b[49m\u001b[43mdata\u001b[49m\u001b[38;5;241;43m=\u001b[39;49m\u001b[43mdata\u001b[49m\u001b[43m,\u001b[49m\n\u001b[1;32m    791\u001b[0m \u001b[43m        \u001b[49m\u001b[43mtimeout\u001b[49m\u001b[38;5;241;43m=\u001b[39;49m\u001b[43mtimeout\u001b[49m\u001b[43m,\u001b[49m\n\u001b[1;32m    792\u001b[0m \u001b[43m    \u001b[49m\u001b[43m)\u001b[49m\n\u001b[1;32m    793\u001b[0m     \u001b[38;5;28;01mreturn\u001b[39;00m Table\u001b[38;5;241m.\u001b[39mfrom_api_repr(api_response)\n\u001b[1;32m    794\u001b[0m \u001b[38;5;28;01mexcept\u001b[39;00m core_exceptions\u001b[38;5;241m.\u001b[39mConflict:\n",
      "File \u001b[0;32m/Library/Frameworks/Python.framework/Versions/3.12/lib/python3.12/site-packages/google/cloud/bigquery/client.py:818\u001b[0m, in \u001b[0;36mClient._call_api\u001b[0;34m(self, retry, span_name, span_attributes, job_ref, headers, **kwargs)\u001b[0m\n\u001b[1;32m    814\u001b[0m \u001b[38;5;28;01mif\u001b[39;00m span_name \u001b[38;5;129;01mis\u001b[39;00m \u001b[38;5;129;01mnot\u001b[39;00m \u001b[38;5;28;01mNone\u001b[39;00m:\n\u001b[1;32m    815\u001b[0m     \u001b[38;5;28;01mwith\u001b[39;00m create_span(\n\u001b[1;32m    816\u001b[0m         name\u001b[38;5;241m=\u001b[39mspan_name, attributes\u001b[38;5;241m=\u001b[39mspan_attributes, client\u001b[38;5;241m=\u001b[39m\u001b[38;5;28mself\u001b[39m, job_ref\u001b[38;5;241m=\u001b[39mjob_ref\n\u001b[1;32m    817\u001b[0m     ):\n\u001b[0;32m--> 818\u001b[0m         \u001b[38;5;28;01mreturn\u001b[39;00m \u001b[43mcall\u001b[49m\u001b[43m(\u001b[49m\u001b[43m)\u001b[49m\n\u001b[1;32m    820\u001b[0m \u001b[38;5;28;01mreturn\u001b[39;00m call()\n",
      "File \u001b[0;32m/Library/Frameworks/Python.framework/Versions/3.12/lib/python3.12/site-packages/google/api_core/retry.py:372\u001b[0m, in \u001b[0;36mRetry.__call__.<locals>.retry_wrapped_func\u001b[0;34m(*args, **kwargs)\u001b[0m\n\u001b[1;32m    368\u001b[0m target \u001b[38;5;241m=\u001b[39m functools\u001b[38;5;241m.\u001b[39mpartial(func, \u001b[38;5;241m*\u001b[39margs, \u001b[38;5;241m*\u001b[39m\u001b[38;5;241m*\u001b[39mkwargs)\n\u001b[1;32m    369\u001b[0m sleep_generator \u001b[38;5;241m=\u001b[39m exponential_sleep_generator(\n\u001b[1;32m    370\u001b[0m     \u001b[38;5;28mself\u001b[39m\u001b[38;5;241m.\u001b[39m_initial, \u001b[38;5;28mself\u001b[39m\u001b[38;5;241m.\u001b[39m_maximum, multiplier\u001b[38;5;241m=\u001b[39m\u001b[38;5;28mself\u001b[39m\u001b[38;5;241m.\u001b[39m_multiplier\n\u001b[1;32m    371\u001b[0m )\n\u001b[0;32m--> 372\u001b[0m \u001b[38;5;28;01mreturn\u001b[39;00m \u001b[43mretry_target\u001b[49m\u001b[43m(\u001b[49m\n\u001b[1;32m    373\u001b[0m \u001b[43m    \u001b[49m\u001b[43mtarget\u001b[49m\u001b[43m,\u001b[49m\n\u001b[1;32m    374\u001b[0m \u001b[43m    \u001b[49m\u001b[38;5;28;43mself\u001b[39;49m\u001b[38;5;241;43m.\u001b[39;49m\u001b[43m_predicate\u001b[49m\u001b[43m,\u001b[49m\n\u001b[1;32m    375\u001b[0m \u001b[43m    \u001b[49m\u001b[43msleep_generator\u001b[49m\u001b[43m,\u001b[49m\n\u001b[1;32m    376\u001b[0m \u001b[43m    \u001b[49m\u001b[38;5;28;43mself\u001b[39;49m\u001b[38;5;241;43m.\u001b[39;49m\u001b[43m_timeout\u001b[49m\u001b[43m,\u001b[49m\n\u001b[1;32m    377\u001b[0m \u001b[43m    \u001b[49m\u001b[43mon_error\u001b[49m\u001b[38;5;241;43m=\u001b[39;49m\u001b[43mon_error\u001b[49m\u001b[43m,\u001b[49m\n\u001b[1;32m    378\u001b[0m \u001b[43m\u001b[49m\u001b[43m)\u001b[49m\n",
      "File \u001b[0;32m/Library/Frameworks/Python.framework/Versions/3.12/lib/python3.12/site-packages/google/api_core/retry.py:207\u001b[0m, in \u001b[0;36mretry_target\u001b[0;34m(target, predicate, sleep_generator, timeout, on_error, **kwargs)\u001b[0m\n\u001b[1;32m    205\u001b[0m \u001b[38;5;28;01mfor\u001b[39;00m sleep \u001b[38;5;129;01min\u001b[39;00m sleep_generator:\n\u001b[1;32m    206\u001b[0m     \u001b[38;5;28;01mtry\u001b[39;00m:\n\u001b[0;32m--> 207\u001b[0m         result \u001b[38;5;241m=\u001b[39m \u001b[43mtarget\u001b[49m\u001b[43m(\u001b[49m\u001b[43m)\u001b[49m\n\u001b[1;32m    208\u001b[0m         \u001b[38;5;28;01mif\u001b[39;00m inspect\u001b[38;5;241m.\u001b[39misawaitable(result):\n\u001b[1;32m    209\u001b[0m             warnings\u001b[38;5;241m.\u001b[39mwarn(_ASYNC_RETRY_WARNING)\n",
      "File \u001b[0;32m/Library/Frameworks/Python.framework/Versions/3.12/lib/python3.12/site-packages/google/cloud/_http/__init__.py:494\u001b[0m, in \u001b[0;36mJSONConnection.api_request\u001b[0;34m(self, method, path, query_params, data, content_type, headers, api_base_url, api_version, expect_json, _target_object, timeout, extra_api_info)\u001b[0m\n\u001b[1;32m    482\u001b[0m response \u001b[38;5;241m=\u001b[39m \u001b[38;5;28mself\u001b[39m\u001b[38;5;241m.\u001b[39m_make_request(\n\u001b[1;32m    483\u001b[0m     method\u001b[38;5;241m=\u001b[39mmethod,\n\u001b[1;32m    484\u001b[0m     url\u001b[38;5;241m=\u001b[39murl,\n\u001b[0;32m   (...)\u001b[0m\n\u001b[1;32m    490\u001b[0m     extra_api_info\u001b[38;5;241m=\u001b[39mextra_api_info,\n\u001b[1;32m    491\u001b[0m )\n\u001b[1;32m    493\u001b[0m \u001b[38;5;28;01mif\u001b[39;00m \u001b[38;5;129;01mnot\u001b[39;00m \u001b[38;5;241m200\u001b[39m \u001b[38;5;241m<\u001b[39m\u001b[38;5;241m=\u001b[39m response\u001b[38;5;241m.\u001b[39mstatus_code \u001b[38;5;241m<\u001b[39m \u001b[38;5;241m300\u001b[39m:\n\u001b[0;32m--> 494\u001b[0m     \u001b[38;5;28;01mraise\u001b[39;00m exceptions\u001b[38;5;241m.\u001b[39mfrom_http_response(response)\n\u001b[1;32m    496\u001b[0m \u001b[38;5;28;01mif\u001b[39;00m expect_json \u001b[38;5;129;01mand\u001b[39;00m response\u001b[38;5;241m.\u001b[39mcontent:\n\u001b[1;32m    497\u001b[0m     \u001b[38;5;28;01mreturn\u001b[39;00m response\u001b[38;5;241m.\u001b[39mjson()\n",
      "\u001b[0;31mConflict\u001b[0m: 409 POST https://bigquery.googleapis.com/bigquery/v2/projects/taller-etl-datapath/datasets/taller_enero2024/tables?prettyPrint=false: Already Exists: Table taller-etl-datapath:taller_enero2024.ventas"
     ]
    }
   ],
   "source": [
    "## id de la tabla nueva - cambiar el nombre al tuyo\n",
    "table_id=\"taller-etl-datapath.taller_enero2024.ventas\"\n",
    "\n",
    "# creamos la estructura de la tabla\n",
    "schema = []\n",
    "table = bigquery.Table(table_id, schema=schema)\n",
    "\n",
    "## enviando la instruccion a bigquery\n",
    "table = client.create_table(table)"
   ]
  },
  {
   "cell_type": "code",
   "execution_count": 27,
   "metadata": {},
   "outputs": [],
   "source": [
    "job_config = bigquery.LoadJobConfig(\n",
    "    # especificamos el esquema de nuestra tabla\n",
    "    schema=[\n",
    " # Especifique el tipo de columnas cuyo tipo no se puede detectar automáticamente.\n",
    "        bigquery.SchemaField(\"factura\", \"STRING\"),\n",
    "        bigquery.SchemaField(\"fecha\", \"STRING\"),\n",
    "        bigquery.SchemaField(\"codigo_operador\", \"STRING\"),\n",
    "        bigquery.SchemaField(\"operador\", \"STRING\"),\n",
    "        bigquery.SchemaField(\"venta_total\", \"FLOAT\"),\n",
    "        bigquery.SchemaField(\"venta_total_usd\", \"FLOAT\")\n",
    "    ],\n",
    "\n",
    "    write_disposition=\"WRITE_TRUNCATE\", #WRITE_APPEND para sobrescribir\n",
    ")\n",
    "\n",
    "## proceso de ingesta\n",
    "job = client.load_table_from_dataframe(\n",
    "    df_ventas, # dataframe\n",
    "    table_id, # tabla en bigquery\n",
    "    job_config=job_config # configuación de carga\n",
    ")"
   ]
  },
  {
   "cell_type": "code",
   "execution_count": 28,
   "metadata": {},
   "outputs": [
    {
     "data": {
      "text/plain": [
       "LoadJob<project=taller-etl-datapath, location=US, id=efedd7fd-8bb1-4991-abad-20620d2fbf27>"
      ]
     },
     "execution_count": 28,
     "metadata": {},
     "output_type": "execute_result"
    }
   ],
   "source": [
    "job.result()"
   ]
  },
  {
   "cell_type": "code",
   "execution_count": null,
   "metadata": {},
   "outputs": [],
   "source": []
  }
 ],
 "metadata": {
  "kernelspec": {
   "display_name": "Python 3",
   "language": "python",
   "name": "python3"
  },
  "language_info": {
   "codemirror_mode": {
    "name": "ipython",
    "version": 3
   },
   "file_extension": ".py",
   "mimetype": "text/x-python",
   "name": "python",
   "nbconvert_exporter": "python",
   "pygments_lexer": "ipython3",
   "version": "3.12.0"
  }
 },
 "nbformat": 4,
 "nbformat_minor": 2
}
